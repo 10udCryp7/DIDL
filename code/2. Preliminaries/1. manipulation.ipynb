{
 "cells": [
  {
   "cell_type": "code",
   "execution_count": 2,
   "metadata": {},
   "outputs": [],
   "source": [
    "import torch"
   ]
  },
  {
   "cell_type": "markdown",
   "metadata": {},
   "source": [
    "#### **Getting Started**\n",
    "\n",
    "- torch.arange()\n",
    "\n",
    "- tensor.numel(), torch.numel(tensor), len\n",
    "\n",
    "- tensor.shape(), tensor.reshape()\n",
    "\n",
    "- torch.zeros(), torch.ones()\n",
    "\n",
    "- torch.randn()\n",
    "\n",
    "- torch.tensor()"
   ]
  },
  {
   "cell_type": "code",
   "execution_count": 2,
   "metadata": {},
   "outputs": [
    {
     "name": "stdout",
     "output_type": "stream",
     "text": [
      "tensor([ 0.,  1.,  2.,  3.,  4.,  5.,  6.,  7.,  8.,  9., 10., 11.])\n"
     ]
    }
   ],
   "source": [
    "x = torch.arange(12, dtype= torch.float32)\n",
    "print(x)"
   ]
  },
  {
   "cell_type": "code",
   "execution_count": 8,
   "metadata": {},
   "outputs": [
    {
     "name": "stdout",
     "output_type": "stream",
     "text": [
      "12\n",
      "12\n",
      "12\n"
     ]
    }
   ],
   "source": [
    "length1 = len(x)\n",
    "length2 = torch.numel(x)\n",
    "length3 = x.numel()\n",
    "print(length1)\n",
    "print(length2)\n",
    "print(length3)"
   ]
  },
  {
   "cell_type": "code",
   "execution_count": 10,
   "metadata": {},
   "outputs": [
    {
     "name": "stdout",
     "output_type": "stream",
     "text": [
      "torch.Size([12])\n"
     ]
    }
   ],
   "source": [
    "shapeX = x.shape\n",
    "print(shapeX)"
   ]
  },
  {
   "cell_type": "code",
   "execution_count": 13,
   "metadata": {},
   "outputs": [
    {
     "name": "stdout",
     "output_type": "stream",
     "text": [
      "tensor([[ 0.,  1.,  2.,  3.],\n",
      "        [ 4.,  5.,  6.,  7.],\n",
      "        [ 8.,  9., 10., 11.]])\n",
      "tensor([[ 0.,  1.,  2.,  3.],\n",
      "        [ 4.,  5.,  6.,  7.],\n",
      "        [ 8.,  9., 10., 11.]])\n"
     ]
    }
   ],
   "source": [
    "X_reshape = x.reshape(3, -1)\n",
    "print(X_reshape)\n",
    "X_reshape = x.reshape(-1, 4)\n",
    "print(X_reshape)"
   ]
  },
  {
   "cell_type": "code",
   "execution_count": 14,
   "metadata": {},
   "outputs": [
    {
     "name": "stdout",
     "output_type": "stream",
     "text": [
      "tensor([[[0., 0., 0., 0.],\n",
      "         [0., 0., 0., 0.],\n",
      "         [0., 0., 0., 0.]],\n",
      "\n",
      "        [[0., 0., 0., 0.],\n",
      "         [0., 0., 0., 0.],\n",
      "         [0., 0., 0., 0.]]])\n"
     ]
    }
   ],
   "source": [
    "X_zeros = torch.zeros(2,3,4)\n",
    "print(X_zeros)"
   ]
  },
  {
   "cell_type": "code",
   "execution_count": 17,
   "metadata": {},
   "outputs": [
    {
     "name": "stdout",
     "output_type": "stream",
     "text": [
      "tensor([[[1., 1., 1., 1.],\n",
      "         [1., 1., 1., 1.],\n",
      "         [1., 1., 1., 1.]],\n",
      "\n",
      "        [[1., 1., 1., 1.],\n",
      "         [1., 1., 1., 1.],\n",
      "         [1., 1., 1., 1.]]])\n"
     ]
    }
   ],
   "source": [
    "X_ones = torch.ones(2,3,4)\n",
    "print(X_ones)"
   ]
  },
  {
   "cell_type": "code",
   "execution_count": 18,
   "metadata": {},
   "outputs": [
    {
     "name": "stdout",
     "output_type": "stream",
     "text": [
      "tensor([[[-0.3285,  0.3127, -0.4224, -0.6867],\n",
      "         [-0.5914, -0.9142,  0.0121,  0.3244],\n",
      "         [-0.4061,  0.4734, -0.1230, -1.0347]],\n",
      "\n",
      "        [[-0.7303,  0.0703, -0.9952, -0.1822],\n",
      "         [ 0.2571,  0.5507, -0.4462, -0.4248],\n",
      "         [-0.4661, -0.7054, -0.1217, -0.3676]]])\n"
     ]
    }
   ],
   "source": [
    "# random from Gaussian Distribution\n",
    "\n",
    "X_randn = torch.randn(2,3,4)\n",
    "print(X_randn)"
   ]
  },
  {
   "cell_type": "code",
   "execution_count": 21,
   "metadata": {},
   "outputs": [
    {
     "name": "stdout",
     "output_type": "stream",
     "text": [
      "tensor([[ 1,  2,  3,  4],\n",
      "        [ 5,  6,  7,  8],\n",
      "        [ 9, 10, 11, 12]])\n"
     ]
    }
   ],
   "source": [
    "# create tensor from list\n",
    "\n",
    "X_tensor = torch.tensor([[1,2,3,4],[5,6,7,8],[9,10,11,12]])\n",
    "print(X_tensor)"
   ]
  },
  {
   "cell_type": "markdown",
   "metadata": {},
   "source": [
    "#### **Slicing and Indexing**"
   ]
  },
  {
   "cell_type": "code",
   "execution_count": 5,
   "metadata": {},
   "outputs": [
    {
     "name": "stdout",
     "output_type": "stream",
     "text": [
      "tensor([[ 0.,  1.,  2.,  3.],\n",
      "        [ 4.,  5.,  6.,  7.],\n",
      "        [ 8.,  9., 10., 11.],\n",
      "        [12., 13., 14., 15.]])\n"
     ]
    }
   ],
   "source": [
    "# create tensor\n",
    "X = torch.arange(16, dtype = torch.float32)\n",
    "X = X.reshape(-1,4)\n",
    "\n",
    "print(X)"
   ]
  },
  {
   "cell_type": "code",
   "execution_count": 8,
   "metadata": {},
   "outputs": [
    {
     "name": "stdout",
     "output_type": "stream",
     "text": [
      "tensor([12., 13., 14., 15.])\n",
      "tensor(7.)\n",
      "tensor([[0., 1.],\n",
      "        [4., 5.]])\n"
     ]
    }
   ],
   "source": [
    "print(X[-1])\n",
    "print(X[1,3])\n",
    "print(X[:2,:2])"
   ]
  },
  {
   "cell_type": "markdown",
   "metadata": {},
   "source": [
    "#### **Operations**\n",
    "- elementwise operator: \n",
    "    + apply the function to all element of tensor\n",
    "    + we can create elementwise operator function by ourselves if the function maps from scalar to scalar\n",
    "    + unary scalar f: R -> R, for example: exp\n",
    "    + binary scalar f: R(d), R(d) -> R(d), for examples: __+, -, *, /, %, //__\n",
    "- concatenation:\n",
    "    + group tensor to a List or Tuple, then pass it to the **torch.cat()** function as the parameter\n",
    "    + base on dim\n",
    "- logical operator:\n",
    "    + equal: **==**, compare all elements in the same position\n",
    "- R -> 1:\n",
    "    + sum, mean, ...\n",
    "\n",
    "**List of function and method**:\n",
    "- torch.cat()\n",
    "- operator\n",
    "- sum(), mean()"
   ]
  },
  {
   "cell_type": "code",
   "execution_count": 10,
   "metadata": {},
   "outputs": [
    {
     "name": "stdout",
     "output_type": "stream",
     "text": [
      "tensor([[ 0.,  1.,  2.,  3.],\n",
      "        [ 4.,  5.,  6.,  7.],\n",
      "        [ 8.,  9., 10., 11.],\n",
      "        [12., 13., 14., 15.]])\n",
      "tensor([[1.0000e+00, 2.7183e+00, 7.3891e+00, 2.0086e+01],\n",
      "        [5.4598e+01, 1.4841e+02, 4.0343e+02, 1.0966e+03],\n",
      "        [2.9810e+03, 8.1031e+03, 2.2026e+04, 5.9874e+04],\n",
      "        [1.6275e+05, 4.4241e+05, 1.2026e+06, 3.2690e+06]])\n"
     ]
    }
   ],
   "source": [
    "print(X)\n",
    "\n",
    "X_exp = torch.exp(X) ## e^x\n",
    "print(X_exp)"
   ]
  },
  {
   "cell_type": "code",
   "execution_count": 16,
   "metadata": {},
   "outputs": [
    {
     "name": "stdout",
     "output_type": "stream",
     "text": [
      "tensor([[ 0.,  1.,  2.,  3.],\n",
      "        [ 4.,  5.,  6.,  7.],\n",
      "        [ 8.,  9., 10., 11.],\n",
      "        [12., 13., 14., 15.]])\n",
      "X + Y = tensor([[ 0.,  2.,  4.,  6.],\n",
      "        [ 8., 10., 12., 14.],\n",
      "        [16., 18., 20., 22.],\n",
      "        [24., 26., 28., 30.]])\n",
      "X - Y = tensor([[0., 0., 0., 0.],\n",
      "        [0., 0., 0., 0.],\n",
      "        [0., 0., 0., 0.],\n",
      "        [0., 0., 0., 0.]])\n",
      "X * Y = tensor([[  0.,   1.,   4.,   9.],\n",
      "        [ 16.,  25.,  36.,  49.],\n",
      "        [ 64.,  81., 100., 121.],\n",
      "        [144., 169., 196., 225.]])\n",
      "X / Y = tensor([[nan, 1., 1., 1.],\n",
      "        [1., 1., 1., 1.],\n",
      "        [1., 1., 1., 1.],\n",
      "        [1., 1., 1., 1.]])\n",
      "X ** Y = tensor([[1.0000e+00, 1.0000e+00, 4.0000e+00, 2.7000e+01],\n",
      "        [2.5600e+02, 3.1250e+03, 4.6656e+04, 8.2354e+05],\n",
      "        [1.6777e+07, 3.8742e+08, 1.0000e+10, 2.8531e+11],\n",
      "        [8.9161e+12, 3.0288e+14, 1.1112e+16, 4.3789e+17]])\n"
     ]
    }
   ],
   "source": [
    "Y = torch.arange(16,dtype = torch.float32).reshape(-1, 4)\n",
    "print(Y)\n",
    "print(f\"X + Y = {X + Y}\")\n",
    "print(f\"X - Y = {X - Y}\")\n",
    "print(f\"X * Y = {X * Y}\")\n",
    "print(f\"X / Y = {X / Y}\")\n",
    "print(f\"X ** Y = {X ** Y}\")"
   ]
  },
  {
   "cell_type": "code",
   "execution_count": 25,
   "metadata": {},
   "outputs": [
    {
     "name": "stdout",
     "output_type": "stream",
     "text": [
      "tensor([[ 0.,  1.,  2.,  3.],\n",
      "        [ 4.,  5.,  6.,  7.],\n",
      "        [ 8.,  9., 10., 11.],\n",
      "        [12., 13., 14., 15.],\n",
      "        [ 0.,  1.,  2.,  3.],\n",
      "        [ 4.,  5.,  6.,  7.],\n",
      "        [ 8.,  9., 10., 11.],\n",
      "        [12., 13., 14., 15.]])\n",
      "tensor([[ 0.,  1.,  2.,  3.,  0.,  1.,  2.,  3.],\n",
      "        [ 4.,  5.,  6.,  7.,  4.,  5.,  6.,  7.],\n",
      "        [ 8.,  9., 10., 11.,  8.,  9., 10., 11.],\n",
      "        [12., 13., 14., 15., 12., 13., 14., 15.]])\n"
     ]
    }
   ],
   "source": [
    "concat_0 = torch.cat([X, Y], dim = 0)\n",
    "print(concat_0)\n",
    "concat_1 = torch.cat([X,Y], dim = 1)\n",
    "print(concat_1)"
   ]
  },
  {
   "cell_type": "code",
   "execution_count": 26,
   "metadata": {},
   "outputs": [
    {
     "name": "stdout",
     "output_type": "stream",
     "text": [
      "tensor([[True, True, True, True],\n",
      "        [True, True, True, True],\n",
      "        [True, True, True, True],\n",
      "        [True, True, True, True]])\n"
     ]
    }
   ],
   "source": [
    "print(X == Y)"
   ]
  },
  {
   "cell_type": "code",
   "execution_count": 28,
   "metadata": {},
   "outputs": [
    {
     "name": "stdout",
     "output_type": "stream",
     "text": [
      "tensor(120.)\n",
      "tensor(7.5000)\n"
     ]
    }
   ],
   "source": [
    "print(X.sum())\n",
    "print(X.mean())"
   ]
  },
  {
   "cell_type": "markdown",
   "metadata": {},
   "source": [
    "#### Broadcasting\n",
    "\n",
    "If two tensor are not in the same size, under some conditions, the operators still can be used.\n",
    "In the case when d = 1 in row or column, the elements will be duplicated so that tensors become the same size matrixs.\n",
    "\n",
    "For example, 3x1 : [0,1,2] -> [[0,1,2], [0,1,2]] -> [[0,0],[1,1],[2,2]] and 1x2: [[0,1]] -> [[0,1],[0,1],[0,1]]"
   ]
  },
  {
   "cell_type": "code",
   "execution_count": 34,
   "metadata": {},
   "outputs": [
    {
     "name": "stdout",
     "output_type": "stream",
     "text": [
      "tensor([[0, 1],\n",
      "        [1, 2],\n",
      "        [2, 3]])\n"
     ]
    }
   ],
   "source": [
    "a = torch.arange(3).reshape(3,1)\n",
    "b = torch.arange(2).reshape(1,2)\n",
    "print(a+b)"
   ]
  },
  {
   "cell_type": "markdown",
   "metadata": {},
   "source": [
    "#### Saving memory\n",
    "\n",
    "When we give a variable new result, first the result will be allocate to new memory, then varible point to this memory.\n",
    "We can clearly understand when see the code above."
   ]
  },
  {
   "cell_type": "code",
   "execution_count": 38,
   "metadata": {},
   "outputs": [
    {
     "name": "stdout",
     "output_type": "stream",
     "text": [
      "True\n",
      "False\n"
     ]
    }
   ],
   "source": [
    "## before and after is not the same, which mean Y has point to new memory block.\n",
    "Y = 3\n",
    "before = id(Y)\n",
    "Y = 3\n",
    "after = id(Y)\n",
    "print(before == after)\n",
    "\n",
    "Y = 4\n",
    "after = id(Y)\n",
    "print(before == after)"
   ]
  },
  {
   "cell_type": "markdown",
   "metadata": {},
   "source": [
    "**The main problems**\n",
    "\n",
    "- In machine learning:\n",
    "    + we dont want to allocate memory unnecessarily\n",
    "    + we have hundred of megabytes of param and update them many times per second -> we want to update them inplace rather than allocate more memory\n",
    "    + same parameters can be pointed by multiple variables. If we dont update inplace, we may be update all the references, which means allocate new memory for all references that leads to memory leaks."
   ]
  },
  {
   "cell_type": "markdown",
   "metadata": {},
   "source": [
    "**Solve the problem**\n",
    "\n",
    "- using slice: Y[:] = <expression\\>\n",
    "- If we want to change the value, we can:\n",
    "    + use X[:] = X operator Y (X[:] = X + Y)\n",
    "    + use X operator= number (X += 3)"
   ]
  },
  {
   "cell_type": "code",
   "execution_count": 40,
   "metadata": {},
   "outputs": [
    {
     "name": "stdout",
     "output_type": "stream",
     "text": [
      "True\n"
     ]
    }
   ],
   "source": [
    "Y = torch.arange(10)\n",
    "Z = torch.zeros_like(Y) ## zeros with the same shape as Y\n",
    "\n",
    "before = id(Z)\n",
    "Z[:] = Y*2\n",
    "after = id(Z)\n",
    "\n",
    "print(before == after)"
   ]
  },
  {
   "cell_type": "code",
   "execution_count": 42,
   "metadata": {},
   "outputs": [
    {
     "name": "stdout",
     "output_type": "stream",
     "text": [
      "True\n"
     ]
    }
   ],
   "source": [
    "before = id(Z)\n",
    "Z[:] = Z + Y\n",
    "after = id(Z)\n",
    "print(before == after)"
   ]
  },
  {
   "cell_type": "code",
   "execution_count": 41,
   "metadata": {},
   "outputs": [
    {
     "name": "stdout",
     "output_type": "stream",
     "text": [
      "True\n"
     ]
    }
   ],
   "source": [
    "before = id(Z)\n",
    "Z += 3\n",
    "after = id(Z)\n",
    "print(before == after)"
   ]
  },
  {
   "cell_type": "markdown",
   "metadata": {},
   "source": [
    "#### Object Conversion\n",
    "\n",
    "- Conversion with numpy:\n",
    "    + tensor = torch.tensor(numpy_array) (also with list, tuple)\n",
    "    + tensor = torch.from_numpy(numpy_array)\n",
    "    + numpy_array = tensor.numpy()"
   ]
  },
  {
   "cell_type": "code",
   "execution_count": 48,
   "metadata": {},
   "outputs": [
    {
     "name": "stdout",
     "output_type": "stream",
     "text": [
      "tensor([0, 1, 2, 3, 4, 5, 6, 7, 8, 9], dtype=torch.int32)\n",
      "tensor([0, 1, 2, 3, 4, 5, 6, 7, 8, 9], dtype=torch.int32)\n",
      "[0 1 2 3 4 5 6 7 8 9]\n"
     ]
    }
   ],
   "source": [
    "import numpy as np\n",
    "\n",
    "a = np.arange(10)\n",
    "tensor1 = torch.tensor(a)\n",
    "tensor2 = torch.from_numpy(a)\n",
    "print(tensor1)\n",
    "print(tensor2)\n",
    "print(tensor1.numpy())"
   ]
  },
  {
   "cell_type": "markdown",
   "metadata": {},
   "source": [
    "- Convert size-1 tensor to number\n",
    "    + we have tensor, we directly cast (if we know the type we want to cast) or use tensor.item(), then cast value"
   ]
  },
  {
   "cell_type": "code",
   "execution_count": 55,
   "metadata": {},
   "outputs": [
    {
     "name": "stdout",
     "output_type": "stream",
     "text": [
      "1\n",
      "1.5\n",
      "1.5\n"
     ]
    }
   ],
   "source": [
    "x = torch.tensor(1.5)\n",
    "print(int(x))\n",
    "print(float(x))\n",
    "print(x.item())"
   ]
  },
  {
   "cell_type": "markdown",
   "metadata": {},
   "source": [
    "#### Excercise\n",
    " 1. Run the code in this section. Change the conditional statement X == Y to X < Y or X >\n",
    " Y, and then see what kind of tensor you can get.\n",
    " 2. Replace the two tensors that operate by element in the broadcasting mechanism with\n",
    " other shapes, e.g., 3-dimensional tensors. Is the result the same as expected?"
   ]
  },
  {
   "cell_type": "code",
   "execution_count": 65,
   "metadata": {},
   "outputs": [
    {
     "name": "stdout",
     "output_type": "stream",
     "text": [
      "tensor([[[0, 1],\n",
      "         [1, 2],\n",
      "         [2, 3]]])\n"
     ]
    }
   ],
   "source": [
    "# after many tests, it bases on the size of matrix\n",
    "a = torch.arange(3).reshape(1,3,1)\n",
    "b = torch.arange(2).reshape(1,1,2)\n",
    "print(a+b)"
   ]
  }
 ],
 "metadata": {
  "kernelspec": {
   "display_name": "d2l",
   "language": "python",
   "name": "python3"
  },
  "language_info": {
   "codemirror_mode": {
    "name": "ipython",
    "version": 3
   },
   "file_extension": ".py",
   "mimetype": "text/x-python",
   "name": "python",
   "nbconvert_exporter": "python",
   "pygments_lexer": "ipython3",
   "version": "3.12.3"
  }
 },
 "nbformat": 4,
 "nbformat_minor": 2
}
